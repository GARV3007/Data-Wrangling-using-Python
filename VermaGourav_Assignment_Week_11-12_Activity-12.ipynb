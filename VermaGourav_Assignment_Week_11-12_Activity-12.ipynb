{
 "cells": [
  {
   "cell_type": "markdown",
   "metadata": {},
   "source": [
    "Name : Gourav Verma<br>\n",
    "Class : DSC540-T303<br>\n",
    "Topic : Storing Data<br>\n",
    "Assignment : Weeks 11 & 12 Excercises<br>"
   ]
  },
  {
   "cell_type": "code",
   "execution_count": 27,
   "metadata": {},
   "outputs": [],
   "source": [
    "# Import important libraries\n",
    "\n",
    "import pandas as pd\n",
    "import warnings\n",
    "warnings.filterwarnings('ignore')"
   ]
  },
  {
   "cell_type": "markdown",
   "metadata": {},
   "source": [
    "### Activity 12: Data Wrangling Task - Fixing UN Data"
   ]
  },
  {
   "cell_type": "code",
   "execution_count": 28,
   "metadata": {},
   "outputs": [
    {
     "data": {
      "text/html": [
       "<div>\n",
       "<style scoped>\n",
       "    .dataframe tbody tr th:only-of-type {\n",
       "        vertical-align: middle;\n",
       "    }\n",
       "\n",
       "    .dataframe tbody tr th {\n",
       "        vertical-align: top;\n",
       "    }\n",
       "\n",
       "    .dataframe thead th {\n",
       "        text-align: right;\n",
       "    }\n",
       "</style>\n",
       "<table border=\"1\" class=\"dataframe\">\n",
       "  <thead>\n",
       "    <tr style=\"text-align: right;\">\n",
       "      <th></th>\n",
       "      <th>Region/Country/Area</th>\n",
       "      <th>Unnamed: 1</th>\n",
       "      <th>Year</th>\n",
       "      <th>Series</th>\n",
       "      <th>Value</th>\n",
       "      <th>Footnotes</th>\n",
       "      <th>Source</th>\n",
       "    </tr>\n",
       "  </thead>\n",
       "  <tbody>\n",
       "    <tr>\n",
       "      <td>0</td>\n",
       "      <td>1</td>\n",
       "      <td>Total, all countries or areas</td>\n",
       "      <td>2005</td>\n",
       "      <td>Students enrolled in primary education (thousa...</td>\n",
       "      <td>678,990</td>\n",
       "      <td>NaN</td>\n",
       "      <td>United Nations Educational, Scientific and Cul...</td>\n",
       "    </tr>\n",
       "    <tr>\n",
       "      <td>1</td>\n",
       "      <td>1</td>\n",
       "      <td>Total, all countries or areas</td>\n",
       "      <td>2005</td>\n",
       "      <td>Gross enrollement ratio - Primary (male)</td>\n",
       "      <td>104.8</td>\n",
       "      <td>NaN</td>\n",
       "      <td>United Nations Educational, Scientific and Cul...</td>\n",
       "    </tr>\n",
       "    <tr>\n",
       "      <td>2</td>\n",
       "      <td>1</td>\n",
       "      <td>Total, all countries or areas</td>\n",
       "      <td>2005</td>\n",
       "      <td>Gross enrollment ratio - Primary (female)</td>\n",
       "      <td>99.8</td>\n",
       "      <td>NaN</td>\n",
       "      <td>United Nations Educational, Scientific and Cul...</td>\n",
       "    </tr>\n",
       "    <tr>\n",
       "      <td>3</td>\n",
       "      <td>1</td>\n",
       "      <td>Total, all countries or areas</td>\n",
       "      <td>2005</td>\n",
       "      <td>Students enrolled in secondary education (thou...</td>\n",
       "      <td>509,100</td>\n",
       "      <td>NaN</td>\n",
       "      <td>United Nations Educational, Scientific and Cul...</td>\n",
       "    </tr>\n",
       "    <tr>\n",
       "      <td>4</td>\n",
       "      <td>1</td>\n",
       "      <td>Total, all countries or areas</td>\n",
       "      <td>2005</td>\n",
       "      <td>Gross enrollment ratio - Secondary (male)</td>\n",
       "      <td>65.7</td>\n",
       "      <td>NaN</td>\n",
       "      <td>United Nations Educational, Scientific and Cul...</td>\n",
       "    </tr>\n",
       "  </tbody>\n",
       "</table>\n",
       "</div>"
      ],
      "text/plain": [
       "   Region/Country/Area                     Unnamed: 1  Year  \\\n",
       "0                    1  Total, all countries or areas  2005   \n",
       "1                    1  Total, all countries or areas  2005   \n",
       "2                    1  Total, all countries or areas  2005   \n",
       "3                    1  Total, all countries or areas  2005   \n",
       "4                    1  Total, all countries or areas  2005   \n",
       "\n",
       "                                              Series    Value Footnotes  \\\n",
       "0  Students enrolled in primary education (thousa...  678,990       NaN   \n",
       "1           Gross enrollement ratio - Primary (male)    104.8       NaN   \n",
       "2          Gross enrollment ratio - Primary (female)     99.8       NaN   \n",
       "3  Students enrolled in secondary education (thou...  509,100       NaN   \n",
       "4          Gross enrollment ratio - Secondary (male)     65.7       NaN   \n",
       "\n",
       "                                              Source  \n",
       "0  United Nations Educational, Scientific and Cul...  \n",
       "1  United Nations Educational, Scientific and Cul...  \n",
       "2  United Nations Educational, Scientific and Cul...  \n",
       "3  United Nations Educational, Scientific and Cul...  \n",
       "4  United Nations Educational, Scientific and Cul...  "
      ]
     },
     "execution_count": 28,
     "metadata": {},
     "output_type": "execute_result"
    }
   ],
   "source": [
    "# Read UN data\n",
    "education_data_link=\"http://data.un.org/_Docs/SYB/CSV/SYB61_T07_Education.csv\"\n",
    "UN_df = pd.read_csv(education_data_link, skiprows=1)\n",
    "UN_df.head()"
   ]
  },
  {
   "cell_type": "code",
   "execution_count": 29,
   "metadata": {},
   "outputs": [],
   "source": [
    "# Drop the column Region/Country/Area and Source. \n",
    "\n",
    "UN_df1 = UN_df.drop(['Region/Country/Area','Source'],axis=1)"
   ]
  },
  {
   "cell_type": "code",
   "execution_count": 30,
   "metadata": {},
   "outputs": [
    {
     "data": {
      "text/html": [
       "<div>\n",
       "<style scoped>\n",
       "    .dataframe tbody tr th:only-of-type {\n",
       "        vertical-align: middle;\n",
       "    }\n",
       "\n",
       "    .dataframe tbody tr th {\n",
       "        vertical-align: top;\n",
       "    }\n",
       "\n",
       "    .dataframe thead th {\n",
       "        text-align: right;\n",
       "    }\n",
       "</style>\n",
       "<table border=\"1\" class=\"dataframe\">\n",
       "  <thead>\n",
       "    <tr style=\"text-align: right;\">\n",
       "      <th></th>\n",
       "      <th>Region/Country/Area</th>\n",
       "      <th>Year</th>\n",
       "      <th>Data</th>\n",
       "      <th>Value</th>\n",
       "      <th>Footnotes</th>\n",
       "    </tr>\n",
       "  </thead>\n",
       "  <tbody>\n",
       "    <tr>\n",
       "      <td>0</td>\n",
       "      <td>Total, all countries or areas</td>\n",
       "      <td>2005</td>\n",
       "      <td>Students enrolled in primary education (thousa...</td>\n",
       "      <td>678,990</td>\n",
       "      <td>NaN</td>\n",
       "    </tr>\n",
       "    <tr>\n",
       "      <td>1</td>\n",
       "      <td>Total, all countries or areas</td>\n",
       "      <td>2005</td>\n",
       "      <td>Gross enrollement ratio - Primary (male)</td>\n",
       "      <td>104.8</td>\n",
       "      <td>NaN</td>\n",
       "    </tr>\n",
       "    <tr>\n",
       "      <td>2</td>\n",
       "      <td>Total, all countries or areas</td>\n",
       "      <td>2005</td>\n",
       "      <td>Gross enrollment ratio - Primary (female)</td>\n",
       "      <td>99.8</td>\n",
       "      <td>NaN</td>\n",
       "    </tr>\n",
       "    <tr>\n",
       "      <td>3</td>\n",
       "      <td>Total, all countries or areas</td>\n",
       "      <td>2005</td>\n",
       "      <td>Students enrolled in secondary education (thou...</td>\n",
       "      <td>509,100</td>\n",
       "      <td>NaN</td>\n",
       "    </tr>\n",
       "    <tr>\n",
       "      <td>4</td>\n",
       "      <td>Total, all countries or areas</td>\n",
       "      <td>2005</td>\n",
       "      <td>Gross enrollment ratio - Secondary (male)</td>\n",
       "      <td>65.7</td>\n",
       "      <td>NaN</td>\n",
       "    </tr>\n",
       "  </tbody>\n",
       "</table>\n",
       "</div>"
      ],
      "text/plain": [
       "             Region/Country/Area  Year  \\\n",
       "0  Total, all countries or areas  2005   \n",
       "1  Total, all countries or areas  2005   \n",
       "2  Total, all countries or areas  2005   \n",
       "3  Total, all countries or areas  2005   \n",
       "4  Total, all countries or areas  2005   \n",
       "\n",
       "                                                Data    Value Footnotes  \n",
       "0  Students enrolled in primary education (thousa...  678,990       NaN  \n",
       "1           Gross enrollement ratio - Primary (male)    104.8       NaN  \n",
       "2          Gross enrollment ratio - Primary (female)     99.8       NaN  \n",
       "3  Students enrolled in secondary education (thou...  509,100       NaN  \n",
       "4          Gross enrollment ratio - Secondary (male)     65.7       NaN  "
      ]
     },
     "execution_count": 30,
     "metadata": {},
     "output_type": "execute_result"
    }
   ],
   "source": [
    "# Rename columns\n",
    "\n",
    "UN_df1.columns=['Region/Country/Area','Year','Data','Value','Footnotes']\n",
    "UN_df1.head()"
   ]
  },
  {
   "cell_type": "code",
   "execution_count": 31,
   "metadata": {},
   "outputs": [
    {
     "data": {
      "text/plain": [
       "array([nan, 'Estimate.',\n",
       "       'For statistical purposes, the data for China do not include those for the Hong Kong Special Administrative Region (Hong Kong SAR), Macao Special Administrative Region (Macao SAR) and Taiwan Province of China.'],\n",
       "      dtype=object)"
      ]
     },
     "execution_count": 31,
     "metadata": {},
     "output_type": "execute_result"
    }
   ],
   "source": [
    "# Check unique values in Footnote column\n",
    "\n",
    "UN_df1['Footnotes'].unique()"
   ]
  },
  {
   "cell_type": "code",
   "execution_count": 32,
   "metadata": {},
   "outputs": [
    {
     "data": {
      "text/plain": [
       "pandas.core.series.Series"
      ]
     },
     "execution_count": 32,
     "metadata": {},
     "output_type": "execute_result"
    }
   ],
   "source": [
    "# Check type of value column\n",
    "\n",
    "type(UN_df1['Value'])"
   ]
  },
  {
   "cell_type": "code",
   "execution_count": 33,
   "metadata": {},
   "outputs": [],
   "source": [
    "# Function to convert string into flot\n",
    "\n",
    "def to_numeric(val):\n",
    "    \"\"\"\n",
    "    Converts a given string (with one or more commas) to a numeric value\n",
    "    \"\"\"\n",
    "    if ',' not in str(val):            # Check if string contains a \",\"\n",
    "        result = float(val)            # Convert to float\n",
    "    else:\n",
    "        val=str(val)\n",
    "        val=''.join(str(val).split(','))  # Remove \",\" from string\n",
    "        result=float(val)\n",
    "    return result"
   ]
  },
  {
   "cell_type": "code",
   "execution_count": 34,
   "metadata": {},
   "outputs": [
    {
     "data": {
      "text/plain": [
       "0       678990.0\n",
       "1          104.8\n",
       "2           99.8\n",
       "3       509100.0\n",
       "4           65.7\n",
       "          ...   \n",
       "8157         6.5\n",
       "8158         5.5\n",
       "8159       136.0\n",
       "8160         8.9\n",
       "8161         8.0\n",
       "Name: Value, Length: 8162, dtype: float64"
      ]
     },
     "execution_count": 34,
     "metadata": {},
     "output_type": "execute_result"
    }
   ],
   "source": [
    "# Use apply method to apply the function on Value column\n",
    "\n",
    "UN_df1['Value'].apply(to_numeric)"
   ]
  },
  {
   "cell_type": "code",
   "execution_count": 35,
   "metadata": {},
   "outputs": [
    {
     "data": {
      "text/plain": [
       "array(['Students enrolled in primary education (thousands)',\n",
       "       'Gross enrollement ratio - Primary (male)',\n",
       "       'Gross enrollment ratio - Primary (female)',\n",
       "       'Students enrolled in secondary education (thousands)',\n",
       "       'Gross enrollment ratio - Secondary (male)',\n",
       "       'Gross enrollment ratio - Secondary (female)',\n",
       "       'Students enrolled in tertiary education (thousands)',\n",
       "       'Gross enrollment ratio - Tertiary (male)',\n",
       "       'Gross enrollment ratio - Tertiary (female)'], dtype=object)"
      ]
     },
     "execution_count": 35,
     "metadata": {},
     "output_type": "execute_result"
    }
   ],
   "source": [
    "# Print unique values of Data column\n",
    "\n",
    "UN_df1['Data'].unique()"
   ]
  },
  {
   "cell_type": "code",
   "execution_count": null,
   "metadata": {},
   "outputs": [],
   "source": []
  }
 ],
 "metadata": {
  "kernelspec": {
   "display_name": "Python 3",
   "language": "python",
   "name": "python3"
  },
  "language_info": {
   "codemirror_mode": {
    "name": "ipython",
    "version": 3
   },
   "file_extension": ".py",
   "mimetype": "text/x-python",
   "name": "python",
   "nbconvert_exporter": "python",
   "pygments_lexer": "ipython3",
   "version": "3.7.4"
  }
 },
 "nbformat": 4,
 "nbformat_minor": 2
}
