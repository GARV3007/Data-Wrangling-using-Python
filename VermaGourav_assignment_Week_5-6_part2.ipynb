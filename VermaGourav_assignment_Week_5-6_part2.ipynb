{
 "cells": [
  {
   "cell_type": "code",
   "execution_count": 22,
   "metadata": {},
   "outputs": [
    {
     "name": "stdout",
     "output_type": "stream",
     "text": [
      "Duplicate entries in email column is :  0\n",
      "<class 'pandas.core.frame.DataFrame'>\n",
      "RangeIndex: 1000 entries, 0 to 999\n",
      "Data columns (total 7 columns):\n",
      "id            1000 non-null int64\n",
      "first_name    704 non-null object\n",
      "last_name     704 non-null object\n",
      "email         1000 non-null object\n",
      "gender        495 non-null object\n",
      "ip_address    1000 non-null object\n",
      "visit         974 non-null float64\n",
      "dtypes: float64(1), int64(1), object(5)\n",
      "memory usage: 54.8+ KB\n"
     ]
    },
    {
     "data": {
      "image/png": "[encoded data removed]",
      "text/plain": [
       "<Figure size 432x288 with 1 Axes>"
      ]
     },
     "metadata": {
      "needs_background": "light"
     },
     "output_type": "display_data"
    }
   ],
   "source": [
    "import pandas as pd\n",
    "import matplotlib.pyplot as plt\n",
    "\n",
    "# Read CSV\n",
    "visit_df = pd.read_csv('visit_data.csv')\n",
    "\n",
    "# Dataframe Details\n",
    "visit_df.head()\n",
    "shp1 = visit_df.shape\n",
    "\n",
    "# Check duplicates\n",
    "print('Duplicate entries in email column is : ', visit_df.duplicated(['email']).sum())\n",
    "\n",
    "# Check for NaN\n",
    "visit_df.info()\n",
    "\n",
    "# Dropna from visit column\n",
    "visit_df1 = visit_df.dropna(subset=['visit'], axis=0)\n",
    "shp2 = visit_df1.shape\n",
    "\n",
    "\n",
    "# Remove Outliers\n",
    "plt.boxplot(visit_df1.visit)   # Box plot\n",
    "visit_df2 = visit_df1[(visit_df1['visit'] <= 2900) & (visit_df1['visit'] >= 100)]\n",
    "shp3 = visit_df2.shape"
   ]
  },
  {
   "cell_type": "code",
   "execution_count": null,
   "metadata": {},
   "outputs": [],
   "source": []
  }
 ],
 "metadata": {
  "kernelspec": {
   "display_name": "Python 3",
   "language": "python",
   "name": "python3"
  },
  "language_info": {
   "codemirror_mode": {
    "name": "ipython",
    "version": 3
   },
   "file_extension": ".py",
   "mimetype": "text/x-python",
   "name": "python",
   "nbconvert_exporter": "python",
   "pygments_lexer": "ipython3",
   "version": "3.7.4"
  }
 },
 "nbformat": 4,
 "nbformat_minor": 2
}
