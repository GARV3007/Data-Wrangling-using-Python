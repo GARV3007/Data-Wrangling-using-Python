{
 "cells": [
  {
   "cell_type": "markdown",
   "metadata": {},
   "source": [
    "Name : Gourav Verma<br>\n",
    "Class : DSC540-T303<br>\n",
    "Topic : Advanced Data Gathering and Visualization<br>\n",
    "Assignment : Weeks 9 & 10 Excercises<br>"
   ]
  },
  {
   "cell_type": "code",
   "execution_count": 30,
   "metadata": {},
   "outputs": [],
   "source": [
    "# Import important libraries\n",
    "import urllib.request, urllib.parse, urllib.error\n",
    "import requests\n",
    "from bs4 import BeautifulSoup\n",
    "import ssl\n",
    "import re\n",
    "import json\n",
    "import os\n",
    "import twitter\n",
    "import pandas as pd\n",
    "import matplotlib.pyplot as plt"
   ]
  },
  {
   "cell_type": "markdown",
   "metadata": {},
   "source": [
    "### Activity-9"
   ]
  },
  {
   "cell_type": "code",
   "execution_count": 3,
   "metadata": {},
   "outputs": [],
   "source": [
    "# Check SSL certificate\n",
    "ctx = ssl.create_default_context()\n",
    "ctx.check_hostname = False\n",
    "ctx.verify_mode = ssl.CERT_NONE"
   ]
  },
  {
   "cell_type": "code",
   "execution_count": 4,
   "metadata": {},
   "outputs": [],
   "source": [
    "# Read HTML from URL\n",
    "url = 'https://www.gutenberg.org/browse/scores/top'\n",
    "response = requests.get(url)"
   ]
  },
  {
   "cell_type": "code",
   "execution_count": 5,
   "metadata": {},
   "outputs": [],
   "source": [
    "# Write small function to check the status of request\n",
    "\n",
    "def chk_status(resp):\n",
    "    if resp.status_code==200:\n",
    "        print(\"Successful Request..!\")\n",
    "        return 1\n",
    "    else:\n",
    "        print(\"Bad Response..!\")\n",
    "        return -1"
   ]
  },
  {
   "cell_type": "code",
   "execution_count": 6,
   "metadata": {},
   "outputs": [
    {
     "name": "stdout",
     "output_type": "stream",
     "text": [
      "Successful Request..!\n"
     ]
    },
    {
     "data": {
      "text/plain": [
       "1"
      ]
     },
     "execution_count": 6,
     "metadata": {},
     "output_type": "execute_result"
    }
   ],
   "source": [
    "chk_status(response)"
   ]
  },
  {
   "cell_type": "code",
   "execution_count": 7,
   "metadata": {},
   "outputs": [],
   "source": [
    "# Decode the response and pass this on to BeautifulSoup for HTML parsing\n",
    "\n",
    "contents = response.content.decode(response.encoding)\n",
    "soup = BeautifulSoup(contents, 'html.parser')"
   ]
  },
  {
   "cell_type": "code",
   "execution_count": 8,
   "metadata": {},
   "outputs": [],
   "source": [
    "# Find all href tags and store them in the list of links. Check what the list looks like- print the first 30 elements.\n",
    "\n",
    "All_href=[]                              # Create empty list\n",
    "for link in soup.find_all('a'):          # Find all tag 'a'\n",
    "    All_href.append(link.get('href'))    # Scrape links from 'href' tag and append into the list\n"
   ]
  },
  {
   "cell_type": "code",
   "execution_count": 9,
   "metadata": {},
   "outputs": [
    {
     "data": {
      "text/plain": [
       "['/wiki/Main_Page',\n",
       " '/catalog/',\n",
       " '/ebooks/',\n",
       " '/browse/recent/last1',\n",
       " '/browse/scores/top',\n",
       " '/wiki/Gutenberg:Offline_Catalogs',\n",
       " '/catalog/world/mybookmarks',\n",
       " '/wiki/Main_Page',\n",
       " 'https://www.paypal.com/xclick/business=donate%40gutenberg.org&item_name=Donation+to+Project+Gutenberg',\n",
       " '/wiki/Gutenberg:Project_Gutenberg_Needs_Your_Donation',\n",
       " 'http://www.ibiblio.org',\n",
       " 'http://www.pgdp.net/',\n",
       " 'pretty-pictures',\n",
       " '#books-last1',\n",
       " '#authors-last1',\n",
       " '#books-last7',\n",
       " '#authors-last7',\n",
       " '#books-last30',\n",
       " '#authors-last30',\n",
       " '/ebooks/1342',\n",
       " '/ebooks/11',\n",
       " '/ebooks/84',\n",
       " '/ebooks/1952',\n",
       " '/ebooks/844',\n",
       " '/ebooks/215',\n",
       " '/ebooks/98',\n",
       " '/ebooks/43',\n",
       " '/ebooks/2542',\n",
       " '/ebooks/1635',\n",
       " '/ebooks/1661']"
      ]
     },
     "execution_count": 9,
     "metadata": {},
     "output_type": "execute_result"
    }
   ],
   "source": [
    "# Print first 30 elements\n",
    "\n",
    "All_href[:30]                             # Print first 30 elements in list"
   ]
  },
  {
   "cell_type": "code",
   "execution_count": 10,
   "metadata": {},
   "outputs": [
    {
     "name": "stdout",
     "output_type": "stream",
     "text": [
      "[1342, 11, 84, 1952, 844, 215, 98, 43, 2542, 1635, 1661, 2701, 25525, 120, 74, 1080, 1250, 174, 76, 376, 514, 55, 1400, 5200, 16, 2852, 46, 16328, 1260, 345, 2600, 205, 113, 2591, 4300, 158, 25344, 2097, 2814, 2500, 219, 42324, 45, 1232, 5740, 3825, 1184, 768, 43936, 2554, 244, 203, 62097, 36, 1064, 28054, 160, 1497, 42686, 3600, 521, 1998, 27827, 35, 6130, 1727, 863, 135, 236, 408, 58585, 996, 1399, 23700, 19942, 730, 972, 2680, 17396, 3207, 62096, 28860, 829, 161, 4363, 58975, 8800, 43453, 140, 23, 766, 209, 2781, 100, 33283, 2148, 145, 2000, 910, 1934]\n"
     ]
    }
   ],
   "source": [
    "# Use a regular expression to find the numeric digits in these links. These are the file numbers for the top 100 eBooks.\n",
    "\n",
    "num=[]\n",
    "for i in range(19,119):                       # 19 to 118 has book numbers\n",
    "    link=All_href[i]                          # Evaluate each element\n",
    "    link=link.strip()                         # Strip link from element\n",
    "    n=re.findall('[0-9]+', link)              # regular expression to find numeric digits\n",
    "    if len(n)==1:\n",
    "        num.append(int(n[0]))                 # Add the number into list\n",
    "\n",
    "print(num)"
   ]
  },
  {
   "cell_type": "code",
   "execution_count": 11,
   "metadata": {},
   "outputs": [
    {
     "data": {
      "text/plain": [
       "\"\\n\\n\\n\\n\\n\\n\\n\\n\\n      if (top != self) {\\n        top.location.replace ('http://www.gutenberg.org');\\n        alert ('Project Gutenberg is a FREE service with NO membership required. If you paid somebody else to get here, make them give you your money back!');\\n      }\\n    \\n \\nTop 100 - Project Gutenberg\\n\\n\\n\\n\\n\\n\\n\\n\\nOnline Book Catalog\\n=> \\n\\n\\n\\n Book  Search\\n-- Recent  Books\\n-- Top  100\\n-- Offline Catalogs\\n-- My Bookmarks\\n\\n\\nMain Page\\n\\n\\n\\n\\nProject Gutenberg needs your donation! \\n        More Info\\n\\n\\n\\n\\n\\n\\n\\n\\nDid you know that you can help us produce ebooks\\nby proof-reading just one page a day?\\nGo to: Distributed Proofreaders\\n\\n\\n\\nTop 100\\n\\n\\nTo determine the ranking we count the times each file gets downloaded.\\nBoth HTTP and FTP transfers are counted.\\nOnly transfers from ibiblio.org are counted as we have no access to our mirrors log files.\\nMultiple downloads from the same IP address on the same day count as one download.\\nIP addresses that download more than 100 files a day are considered\\nrobots and are not considered.\\nBooks made out of multiple files like most audio books are counted\\nif any file is downloaded.\\n\\nDownloaded Books\\n2020-05-12234669\\nlast 7 days1581878\\nlast 30 days7544397\\n\\nPretty Pictures\\n\\nTop 100 EBooks yesterday —\\n  Top 100 Authors yesterday —\\n  Top 100 EBooks last 7 days —\\n  Top 100 Authors last 7 days —\\n  Top 100 EBooks last 30 days —\\n  Top 100 Authors last 30 days\\n\\nTop 100 EBooks yesterday\\n\\nPride and Prejudice by Jane Austen (2255)\\nAlice's Adventures in Wonderland by Lewis Carroll (1728)\\nFrankenstein; Or, The Modern Prometheus by Mary Wollstonecraft Shelley (1497)\\nThe Yellow Wallpaper by Charlotte Perkins Gilman (1413)\\nThe Importance of Being Earnest: A Trivial Comedy for Serious People by Oscar Wilde (1077)\\nThe Call of the Wild by Jack London (1056)\\nA Tale of Two Cities by Charles Dickens (1056)\\nThe Strange Case of Dr. Jekyll and Mr. Hyde by Robert Louis Stevenson (979)\\nEt dukkehjem. English by Henrik Ibsen (974)\\nIon by Plato (954)\\nThe Adventures of Sherlock Holmes by Arthur\""
      ]
     },
     "execution_count": 11,
     "metadata": {},
     "output_type": "execute_result"
    }
   ],
   "source": [
    "# Use the .text method and print only the first 2000 characters\n",
    "\n",
    "content = soup.text\n",
    "content[:2000]"
   ]
  },
  {
   "cell_type": "code",
   "execution_count": 12,
   "metadata": {},
   "outputs": [
    {
     "data": {
      "text/plain": [
       "['Pride and Prejudice by Jane Austen (2255)',\n",
       " \"Alice's Adventures in Wonderland by Lewis Carroll (1728)\",\n",
       " 'Frankenstein; Or, The Modern Prometheus by Mary Wollstonecraft Shelley (1497)',\n",
       " 'The Yellow Wallpaper by Charlotte Perkins Gilman (1413)',\n",
       " 'The Importance of Being Earnest: A Trivial Comedy for Serious People by Oscar Wilde (1077)',\n",
       " 'The Call of the Wild by Jack London (1056)',\n",
       " 'A Tale of Two Cities by Charles Dickens (1056)',\n",
       " 'The Strange Case of Dr. Jekyll and Mr. Hyde by Robert Louis Stevenson (979)',\n",
       " 'Et dukkehjem. English by Henrik Ibsen (974)',\n",
       " 'Ion by Plato (954)']"
      ]
     },
     "execution_count": 12,
     "metadata": {},
     "output_type": "execute_result"
    }
   ],
   "source": [
    "# Search in the extracted text(using regex) from soup object to find names of the top 100 eBoooks(yesterday's ranking)\n",
    "\n",
    "\n",
    "title_temp=[]                            # Temp Empty list for name\n",
    "strt_index=content.splitlines().index('Top 100 EBooks yesterday')     # Create Starting index\n",
    "\n",
    "for i in range(100):                     # Loop for 100 times\n",
    "    line = soup.text.splitlines()[strt_index+2+i]   # Read each line\n",
    "    title_temp.append(line)                         # Add each line into the list\n",
    "\n",
    "title_temp[:10]                                     # Print first 10 elements                                 "
   ]
  },
  {
   "cell_type": "code",
   "execution_count": 13,
   "metadata": {},
   "outputs": [
    {
     "data": {
      "text/plain": [
       "['Pride and Prejudice by Jane Austen ',\n",
       " 'Alice',\n",
       " 'Frankenstein',\n",
       " 'The Yellow Wallpaper by Charlotte Perkins Gilman ',\n",
       " 'The Importance of Being Earnest',\n",
       " 'The Call of the Wild by Jack London ',\n",
       " 'A Tale of Two Cities by Charles Dickens ',\n",
       " 'The Strange Case of Dr',\n",
       " 'Et dukkehjem',\n",
       " 'Ion by Plato ',\n",
       " 'The Adventures of Sherlock Holmes by Arthur Conan Doyle ',\n",
       " 'Moby Dick',\n",
       " 'The Works of Edgar Allan Poe',\n",
       " 'Treasure Island by Robert Louis Stevenson ',\n",
       " 'The Adventures of Tom Sawyer by Mark Twain ',\n",
       " 'A Modest Proposal by Jonathan Swift ',\n",
       " 'Anthem by Ayn Rand ',\n",
       " 'The Picture of Dorian Gray by Oscar Wilde ',\n",
       " 'Adventures of Huckleberry Finn by Mark Twain ',\n",
       " 'A Journal of the Plague Year by Daniel Defoe ',\n",
       " 'Little Women by Louisa May Alcott ',\n",
       " 'The Wonderful Wizard of Oz by L',\n",
       " 'Great Expectations by Charles Dickens ',\n",
       " 'Metamorphosis by Franz Kafka ',\n",
       " 'Peter Pan by J',\n",
       " 'The Hound of the Baskervilles by Arthur Conan Doyle ',\n",
       " 'A Christmas Carol in Prose',\n",
       " 'Beowulf',\n",
       " 'Jane Eyre',\n",
       " 'Dracula by Bram Stoker ',\n",
       " 'War and Peace by graf Leo Tolstoy ',\n",
       " 'Walden',\n",
       " 'The Secret Garden by Frances Hodgson Burnett ',\n",
       " 'Grimms',\n",
       " 'Ulysses by James Joyce ',\n",
       " 'Emma by Jane Austen ',\n",
       " 'The Scarlet Letter by Nathaniel Hawthorne ',\n",
       " 'The Sign of the Four by Arthur Conan Doyle ',\n",
       " 'Dubliners by James Joyce ',\n",
       " 'Siddhartha by Hermann Hesse ',\n",
       " 'Heart of Darkness by Joseph Conrad ',\n",
       " 'Frankenstein',\n",
       " 'Anne of Green Gables by L',\n",
       " 'Il Principe',\n",
       " 'Tractatus Logico',\n",
       " 'Pygmalion by Bernard Shaw ',\n",
       " 'The Count of Monte Cristo',\n",
       " 'Wuthering Heights by Emily Bront',\n",
       " 'The Wonderful Wizard of Oz by L',\n",
       " 'Prestuplenie i nakazanie',\n",
       " 'A Study in Scarlet by Arthur Conan Doyle ',\n",
       " 'Uncle Tom',\n",
       " 'The Last Martian by Ray Van Houten ',\n",
       " 'The War of the Worlds by H',\n",
       " 'The Masque of the Red Death by Edgar Allan Poe ',\n",
       " 'The Brothers Karamazov by Fyodor Dostoyevsky ',\n",
       " 'The Awakening',\n",
       " 'The Republic by Plato ',\n",
       " 'A History of Epidemics in Britain',\n",
       " 'Essays of Michel de Montaigne ',\n",
       " 'The Life and Adventures of Robinson Crusoe by Daniel Defoe ',\n",
       " 'Also sprach Zarathustra',\n",
       " 'The Kama Sutra of Vatsyayana by Vatsyayana ',\n",
       " 'The Time Machine by H',\n",
       " 'The Iliad by Homer ',\n",
       " 'The Odyssey by Homer ',\n",
       " 'The Mysterious Affair at Styles by Agatha Christie ',\n",
       " 'Les Mis',\n",
       " 'The Jungle Book by Rudyard Kipling ',\n",
       " 'The Souls of Black Folk by W',\n",
       " 'The Prophet by Kahlil Gibran ',\n",
       " 'Don Quixote by Miguel de Cervantes Saavedra ',\n",
       " 'Anna Karenina by graf Leo Tolstoy ',\n",
       " 'The Decameron of Giovanni Boccaccio by Giovanni Boccaccio ',\n",
       " 'Candide by Voltaire ',\n",
       " 'Oliver Twist by Charles Dickens ',\n",
       " 'The Devil',\n",
       " 'Meditations by Emperor of Rome Marcus Aurelius ',\n",
       " 'The Secret Garden by Frances Hodgson Burnett ',\n",
       " 'Leviathan by Thomas Hobbes ',\n",
       " 'The Ballad of Venus Nell by Nelson S',\n",
       " 'The Memoirs',\n",
       " 'Gulliver',\n",
       " 'Sense and Sensibility by Jane Austen ',\n",
       " 'Beyond Good and Evil by Friedrich Wilhelm Nietzsche ',\n",
       " 'Index of Project Gutenberg Works on Black History by Various ',\n",
       " 'An Index of The Divine Comedy by Dante by Dante Alighieri ',\n",
       " 'A Pickle for the Knowing Ones by Timothy Dexter ',\n",
       " 'The Jungle by Upton Sinclair ',\n",
       " 'Narrative of the Life of Frederick Douglass',\n",
       " 'David Copperfield by Charles Dickens ',\n",
       " 'The Turn of the Screw by Henry James ',\n",
       " 'Just So Stories by Rudyard Kipling ',\n",
       " 'The Complete Works of William Shakespeare by William Shakespeare ',\n",
       " 'Calculus Made Easy by Silvanus P',\n",
       " 'The Works of Edgar Allan Poe ',\n",
       " 'Middlemarch by George Eliot ',\n",
       " 'Don Quijote by Miguel de Cervantes Saavedra ',\n",
       " 'White Fang by Jack London ',\n",
       " 'Songs of Innocence']"
      ]
     },
     "execution_count": 13,
     "metadata": {},
     "output_type": "execute_result"
    }
   ],
   "source": [
    "# Use regex to to extract only text from the list\n",
    "\n",
    "title_list=[]\n",
    "for i in range(100):\n",
    "    id1,id2=re.match('^[a-zA-Z ]*',title_temp[i]).span()  # Span over lost to extract only characters\n",
    "    title_list.append(title_temp[i][id1:id2])             # Add them into the list\n",
    "\n",
    "title_list                                                # Print the list\n"
   ]
  },
  {
   "cell_type": "markdown",
   "metadata": {},
   "source": [
    "### Activity 10"
   ]
  },
  {
   "cell_type": "markdown",
   "metadata": {},
   "source": [
    "### Retrieve and print basic data about a movie from the web(OMDB database)\n"
   ]
  },
  {
   "cell_type": "code",
   "execution_count": 14,
   "metadata": {},
   "outputs": [],
   "source": [
    "# Stored APIkey into APIkey_OMDB.json file\n",
    "\n",
    "# Open JSOn file\n",
    "\n",
    "with open('APIkey_OMDB.json') as f:\n",
    "    keys=json.load(f)\n",
    "    OMDBkey=keys['OMDBapi']"
   ]
  },
  {
   "cell_type": "code",
   "execution_count": 15,
   "metadata": {},
   "outputs": [],
   "source": [
    "# Assign web address to a variable\n",
    "surl = 'http://www.omdbapi.com/?'\n",
    "\n",
    "# Create variable APIkey\n",
    "apikey = '&apikey='+OMDBkey"
   ]
  },
  {
   "cell_type": "code",
   "execution_count": 16,
   "metadata": {},
   "outputs": [],
   "source": [
    "# Write utility function called print_json to print the movie data from a JSON file(which we will get from the portal)\n",
    "\n",
    "def print_json(json_data):\n",
    "    mov_keys=['Title', 'Year', 'Rated', 'Released', 'Runtime', 'Genre', 'Director', 'Writer', \n",
    "              'Actors', 'Plot', 'Language', 'Country', 'Awards', 'Ratings', \n",
    "              'Metascore', 'imdbRating', 'imdbVotes', 'imdbID']\n",
    "    for k in mov_keys:                            # Itterate over list of features\n",
    "        if k in list(json_data.keys()):           # If movie has that feature, print it\n",
    "            print(f\"{k}: {json_data[k]}\")"
   ]
  },
  {
   "cell_type": "code",
   "execution_count": 17,
   "metadata": {},
   "outputs": [],
   "source": [
    "# Write utility function to download a poster\n",
    "\n",
    "def dwnld_poster(json_data):\n",
    "    title = json_data['Title']\n",
    "    poster_url = json_data['Poster']\n",
    "    \n",
    "    # Get the file extension\n",
    "    file_ext=poster_url.split('.')[-1]\n",
    "    \n",
    "    # Read image from web\n",
    "    poster_data=urllib.request.urlopen(poster_url).read()\n",
    "    \n",
    "    # Get the location in computer to store the poster file\n",
    "    savelocation=os.getcwd()+'\\\\'+'Posters'+'\\\\'\n",
    "    \n",
    "    # Create new directory if the directory does not exist\n",
    "    if not os.path.isdir(savelocation):\n",
    "        os.mkdir(savelocation)\n",
    "    \n",
    "    filename=savelocation+str(title)+'.'+file_ext     # Get the file name/location\n",
    "    f=open(filename, 'wb')                            # Open file in write mode\n",
    "    f.write(poster_data)                              # Write web data into the file\n",
    "    f.close()                                         # Close the file\n",
    "    "
   ]
  },
  {
   "cell_type": "code",
   "execution_count": 18,
   "metadata": {},
   "outputs": [],
   "source": [
    "# Write a function to search a movie by its name\n",
    "\n",
    "def search_movie(title):\n",
    "    try:\n",
    "        url = surl + urllib.parse.urlencode({'t': str(title)})+apikey   # Build complete URl\n",
    "        print(url)                                                      # Print URL\n",
    "        ureq = urllib.request.urlopen(url)                              # Open URL to read\n",
    "        url_data = ureq.read()                                          # Read raw data from URL\n",
    "        json_data = json.loads(url_data)                                # Load the data into JSON format\n",
    "        \n",
    "        # Check the response\n",
    "        if json_data['Response']=='True':\n",
    "            print_json(json_data)                                       # Call function to print the data\n",
    "            \n",
    "            # Check to download poster\n",
    "            if json_data['Poster']!='N/A':\n",
    "                dwnld_poster(json_data)                                 # Call function to download\n",
    "        \n",
    "        else:\n",
    "            print('Error Occurred: ',json_data['Error'])                # Error for movie not found\n",
    "    \n",
    "    except urllib.error.URLError as e:                                  # Error for bad URL\n",
    "        print(f\"Error: {e.reason}\")\n",
    "\n",
    "        "
   ]
  },
  {
   "cell_type": "code",
   "execution_count": 19,
   "metadata": {},
   "outputs": [
    {
     "name": "stdout",
     "output_type": "stream",
     "text": [
      "http://www.omdbapi.com/?t=swades&apikey=ca5fd586\n",
      "Title: Swades\n",
      "Year: 2004\n",
      "Rated: Not Rated\n",
      "Released: 17 Dec 2004\n",
      "Runtime: 189 min\n",
      "Genre: Drama\n",
      "Director: Ashutosh Gowariker\n",
      "Writer: M.G. Sathya (story), Ashutosh Gowariker (story), Ashutosh Gowariker (screenplay), Sameer Sharma (screenplay), Lalit Marathe (screenplay), Amin Hajee (screenplay), Charlotte Whitby-Coles (screenplay), Yashodeep Nigudkar (screenplay), Ayan Mukherjee (screenplay), K.P. Saxena (dialogue), Amin Hajee (Co-Writer)\n",
      "Actors: Shah Rukh Khan, Gayatri Joshi, Kishori Ballal, Smit Sheth\n",
      "Plot: A successful Indian scientist returns to an Indian village to take his nanny to America with him and in the process rediscovers his roots.\n",
      "Language: Hindi, English\n",
      "Country: India\n",
      "Awards: 13 wins & 23 nominations.\n",
      "Ratings: [{'Source': 'Internet Movie Database', 'Value': '8.2/10'}, {'Source': 'Rotten Tomatoes', 'Value': '83%'}]\n",
      "Metascore: N/A\n",
      "imdbRating: 8.2\n",
      "imdbVotes: 79,007\n",
      "imdbID: tt0367110\n"
     ]
    }
   ],
   "source": [
    "search_movie(\"swades\")"
   ]
  },
  {
   "cell_type": "markdown",
   "metadata": {},
   "source": [
    "### Exercise 3: Connect to the Twitter API and do a simple data pull"
   ]
  },
  {
   "cell_type": "code",
   "execution_count": 20,
   "metadata": {},
   "outputs": [],
   "source": [
    "# Connect to twitter API\n",
    "\n",
    "api = twitter.Api(consumer_key='55Z25Wtk3UDp0v0vU0PHMHz1S', \n",
    "                  consumer_secret='5b0TMwZ0e6I2G5IVncsqSAWsIANCFIjXO41RlKyxRT08h8SPs4',\n",
    "                 access_token_key='1261113131880689665-RED49MgKT0J9yo3wIrbDwR9GaR79U3',\n",
    "                 access_token_secret='qE0owXdkHRbeniyyiAWQo0cAXWzhmi7VVeZCNIhKtKTxr')"
   ]
  },
  {
   "cell_type": "code",
   "execution_count": 21,
   "metadata": {},
   "outputs": [
    {
     "name": "stdout",
     "output_type": "stream",
     "text": [
      "{\"created_at\": \"Fri May 15 01:56:30 +0000 2020\", \"default_profile\": true, \"default_profile_image\": true, \"id\": 1261113131880689665, \"id_str\": \"1261113131880689665\", \"name\": \"Gourav Verma\", \"profile_background_color\": \"F5F8FA\", \"profile_image_url\": \"http://abs.twimg.com/sticky/default_profile_images/default_profile_normal.png\", \"profile_image_url_https\": \"https://abs.twimg.com/sticky/default_profile_images/default_profile_normal.png\", \"profile_link_color\": \"1DA1F2\", \"profile_sidebar_border_color\": \"C0DEED\", \"profile_sidebar_fill_color\": \"DDEEF6\", \"profile_text_color\": \"333333\", \"profile_use_background_image\": true, \"screen_name\": \"garv0730\"}\n"
     ]
    }
   ],
   "source": [
    "# Check connection\n",
    "\n",
    "print(api.VerifyCredentials())"
   ]
  },
  {
   "cell_type": "code",
   "execution_count": 23,
   "metadata": {},
   "outputs": [
    {
     "data": {
      "text/plain": [
       "[Status(ID=1261457326122418176, ScreenName=ALHSVollleyball, Created=Sat May 16 00:43:57 +0000 2020, Text='RT @ReiverSoftball: Kayla will be attending Bellevue University to continue her academics. \\n\\nCongrats Kayla!\\n\\n#GoReivers #SailsUp #StudentA…'),\n",
       " Status(ID=1261384590846877696, ScreenName=Kaayla123_, Created=Fri May 15 19:54:56 +0000 2020, Text='RT @ReiverSoftball: Kayla will be attending Bellevue University to continue her academics. \\n\\nCongrats Kayla!\\n\\n#GoReivers #SailsUp #StudentA…'),\n",
       " Status(ID=1261384412584951811, ScreenName=ssydneymccorkle, Created=Fri May 15 19:54:14 +0000 2020, Text='RT @ReiverSoftball: Kayla will be attending Bellevue University to continue her academics. \\n\\nCongrats Kayla!\\n\\n#GoReivers #SailsUp #StudentA…'),\n",
       " Status(ID=1261384374219505665, ScreenName=ALHSathletics, Created=Fri May 15 19:54:04 +0000 2020, Text='RT @ReiverSoftball: Kayla will be attending Bellevue University to continue her academics. \\n\\nCongrats Kayla!\\n\\n#GoReivers #SailsUp #StudentA…'),\n",
       " Status(ID=1261384191486431236, ScreenName=RILEEFILIP, Created=Fri May 15 19:53:21 +0000 2020, Text='RT @ReiverSoftball: Kayla will be attending Bellevue University to continue her academics. \\n\\nCongrats Kayla!\\n\\n#GoReivers #SailsUp #StudentA…'),\n",
       " Status(ID=1261384113908363264, ScreenName=ReiverSoftball, Created=Fri May 15 19:53:02 +0000 2020, Text='Kayla will be attending Bellevue University to continue her academics. \\n\\nCongrats Kayla!\\n\\n#GoReivers #SailsUp… https://t.co/J0wUlu4lRB'),\n",
       " Status(ID=1261339342418644993, ScreenName=thirtytwoedu, Created=Fri May 15 16:55:08 +0000 2020, Text='Some trends of note that have emerged in recent days:\\n\\n1. Virtual Internships\\n2. MBA programs embedded in the entre… https://t.co/9fjtxWqCx5'),\n",
       " Status(ID=1261300451804188672, ScreenName=alliemackkkk, Created=Fri May 15 14:20:36 +0000 2020, Text=\"RT @BellevueU: All four of these women grew up in foster care and attend or have graduated from Bellevue University. They've overcome a lot…\"),\n",
       " Status(ID=1261092962341134338, ScreenName=krembro, Created=Fri May 15 00:36:06 +0000 2020, Text=\"RT @BellevueU: All four of these women grew up in foster care and attend or have graduated from Bellevue University. They've overcome a lot…\"),\n",
       " Status(ID=1261043661346869259, ScreenName=bellevue_xc, Created=Thu May 14 21:20:12 +0000 2020, Text=\"RT @BellevueU: All four of these women grew up in foster care and attend or have graduated from Bellevue University. They've overcome a lot…\")]"
      ]
     },
     "execution_count": 23,
     "metadata": {},
     "output_type": "execute_result"
    }
   ],
   "source": [
    "# Search tweets containing 'Bellevue University'\n",
    "\n",
    "api.GetSearch(term='Bellevue University', since=2020-1-1, count=10)"
   ]
  },
  {
   "cell_type": "code",
   "execution_count": 27,
   "metadata": {},
   "outputs": [
    {
     "data": {
      "text/plain": [
       "[Status(ID=1261280208965046272, ScreenName=DataCamp, Created=Fri May 15 13:00:09 +0000 2020, Text='Get your free, all-access pass to DataCamp! Join us this week for DataCamp’s Free Week through May 22—this is your… https://t.co/Hr4aEF71qP'),\n",
       " Status(ID=1260984505873182721, ScreenName=KirkDBorne, Created=Thu May 14 17:25:08 +0000 2020, Text='Is Robotic Process #Automation the next big trend in enterprise digitalization?\\nhttps://t.co/5LTKjY9tov\\n———————… https://t.co/iQBu5zjqOh'),\n",
       " Status(ID=1260799686677577728, ScreenName=KirkDBorne, Created=Thu May 14 05:10:44 +0000 2020, Text='#EdgeComputing enables the convergence of #AI and Sensors by integrating #IoT contextual data into actionable intel… https://t.co/2l81iq90z6'),\n",
       " Status(ID=1261472485590986752, ScreenName=hubofml, Created=Sat May 16 01:44:12 +0000 2020, Text='RT @MikeQuindazzi: #IoT economic impact projected to $11 trillion by 2025 &gt;&gt;&gt; @UN via @MikeQuindazzi &gt;&gt;&gt; #AI #MachineLearning #GDP #BigData…'),\n",
       " Status(ID=1261472477600813057, ScreenName=soconcieted97, Created=Sat May 16 01:44:10 +0000 2020, Text='RT @MikeQuindazzi: The state of #AI entering 2020  &gt;&gt;&gt; @HBRexchange via @MikeQuindazzi &gt;&gt;&gt; #IoT #BigData #FutureofWork #4IR #DataAnalytics…'),\n",
       " Status(ID=1261472463390601223, ScreenName=India_AI_brains, Created=Sat May 16 01:44:06 +0000 2020, Text='RT @MikeQuindazzi: #IoT economic impact projected to $11 trillion by 2025 &gt;&gt;&gt; @UN via @MikeQuindazzi &gt;&gt;&gt; #AI #MachineLearning #GDP #BigData…'),\n",
       " Status(ID=1261472462010802178, ScreenName=Kiilla3sUp, Created=Sat May 16 01:44:06 +0000 2020, Text='RT @MikeQuindazzi: The state of #AI entering 2020  &gt;&gt;&gt; @HBRexchange via @MikeQuindazzi &gt;&gt;&gt; #IoT #BigData #FutureofWork #4IR #DataAnalytics…'),\n",
       " Status(ID=1261472439566921728, ScreenName=India_AI_brains, Created=Sat May 16 01:44:01 +0000 2020, Text='RT @MikeQuindazzi: Social scores reward and punish citizens in #China &gt;&gt;&gt; @MikeQuindazzi &gt;&gt;&gt; #AI #facialrecognition #IoT #DataScience #Data…'),\n",
       " Status(ID=1261472427793616903, ScreenName=India_AI_brains, Created=Sat May 16 01:43:58 +0000 2020, Text='RT @vinod1975: #MobileData Driven By #AI &amp; Optimise by #DataScience\\n\\n#AILabPage @SwissCognitive @alvinfoo @mclynd @SpirosMargaris @ipfconli…'),\n",
       " Status(ID=1261472328686297088, ScreenName=femtech_, Created=Sat May 16 01:43:34 +0000 2020, Text='RT @MikeQuindazzi: 4 steps to unlocking power of #WomeninTech &gt;&gt;&gt; #PwC via @MikeQuindazzi &gt;&gt;&gt; #AI #SoftwareEngineer #IoT #BigData #DataScie…')]"
      ]
     },
     "execution_count": 27,
     "metadata": {},
     "output_type": "execute_result"
    }
   ],
   "source": [
    "# Search tweets containing 'Data Science'\n",
    "\n",
    "api.GetSearch(term=\"DataScience\", since=2020-1-1, count=10)"
   ]
  },
  {
   "cell_type": "markdown",
   "metadata": {},
   "source": [
    "### Exercise 4: Visualization"
   ]
  },
  {
   "cell_type": "code",
   "execution_count": 31,
   "metadata": {},
   "outputs": [],
   "source": [
    "# Read Jan 3-10 Core Trends Survey\n",
    "\n",
    "Survey = pd.read_csv('January 3-10, 2018 - Core Trends Survey - CSV.csv')"
   ]
  },
  {
   "cell_type": "code",
   "execution_count": 54,
   "metadata": {},
   "outputs": [
    {
     "data": {
      "text/html": [
       "<div>\n",
       "<style scoped>\n",
       "    .dataframe tbody tr th:only-of-type {\n",
       "        vertical-align: middle;\n",
       "    }\n",
       "\n",
       "    .dataframe tbody tr th {\n",
       "        vertical-align: top;\n",
       "    }\n",
       "\n",
       "    .dataframe thead th {\n",
       "        text-align: right;\n",
       "    }\n",
       "</style>\n",
       "<table border=\"1\" class=\"dataframe\">\n",
       "  <thead>\n",
       "    <tr style=\"text-align: right;\">\n",
       "      <th></th>\n",
       "      <th>respid</th>\n",
       "      <th>sample</th>\n",
       "      <th>comp</th>\n",
       "      <th>int_date</th>\n",
       "      <th>lang</th>\n",
       "      <th>cregion</th>\n",
       "      <th>state</th>\n",
       "      <th>density</th>\n",
       "      <th>sex</th>\n",
       "      <th>eminuse</th>\n",
       "      <th>...</th>\n",
       "      <th>marital</th>\n",
       "      <th>educ2</th>\n",
       "      <th>emplnw</th>\n",
       "      <th>hisp</th>\n",
       "      <th>racem1</th>\n",
       "      <th>racecmb</th>\n",
       "      <th>inc</th>\n",
       "      <th>party</th>\n",
       "      <th>hh1</th>\n",
       "      <th>weight</th>\n",
       "    </tr>\n",
       "  </thead>\n",
       "  <tbody>\n",
       "    <tr>\n",
       "      <td>count</td>\n",
       "      <td>2002.000000</td>\n",
       "      <td>2002.000000</td>\n",
       "      <td>2002.0</td>\n",
       "      <td>2002.000000</td>\n",
       "      <td>2002.000000</td>\n",
       "      <td>2002.000000</td>\n",
       "      <td>2002.000000</td>\n",
       "      <td>2002.000000</td>\n",
       "      <td>2002.000000</td>\n",
       "      <td>2002.000000</td>\n",
       "      <td>...</td>\n",
       "      <td>2002.000000</td>\n",
       "      <td>2002.00000</td>\n",
       "      <td>2002.000000</td>\n",
       "      <td>2002.000000</td>\n",
       "      <td>2002.000000</td>\n",
       "      <td>2002.000000</td>\n",
       "      <td>2002.000000</td>\n",
       "      <td>2002.000000</td>\n",
       "      <td>2002.000000</td>\n",
       "      <td>2002.000000</td>\n",
       "    </tr>\n",
       "    <tr>\n",
       "      <td>mean</td>\n",
       "      <td>76009.782717</td>\n",
       "      <td>1.750250</td>\n",
       "      <td>1.0</td>\n",
       "      <td>180105.636863</td>\n",
       "      <td>1.085415</td>\n",
       "      <td>2.677822</td>\n",
       "      <td>28.155345</td>\n",
       "      <td>3.046454</td>\n",
       "      <td>1.460040</td>\n",
       "      <td>1.139361</td>\n",
       "      <td>...</td>\n",
       "      <td>2.980020</td>\n",
       "      <td>6.24975</td>\n",
       "      <td>3.457043</td>\n",
       "      <td>1.981019</td>\n",
       "      <td>2.101898</td>\n",
       "      <td>2.036464</td>\n",
       "      <td>21.068432</td>\n",
       "      <td>2.706294</td>\n",
       "      <td>3.012987</td>\n",
       "      <td>1.000000</td>\n",
       "    </tr>\n",
       "    <tr>\n",
       "      <td>std</td>\n",
       "      <td>43691.053230</td>\n",
       "      <td>0.432977</td>\n",
       "      <td>0.0</td>\n",
       "      <td>2.275502</td>\n",
       "      <td>0.279567</td>\n",
       "      <td>1.014930</td>\n",
       "      <td>16.061673</td>\n",
       "      <td>1.416099</td>\n",
       "      <td>0.498525</td>\n",
       "      <td>0.375485</td>\n",
       "      <td>...</td>\n",
       "      <td>2.260983</td>\n",
       "      <td>11.92625</td>\n",
       "      <td>10.404676</td>\n",
       "      <td>1.073342</td>\n",
       "      <td>2.226236</td>\n",
       "      <td>2.009017</td>\n",
       "      <td>35.128846</td>\n",
       "      <td>1.836563</td>\n",
       "      <td>1.939575</td>\n",
       "      <td>0.484119</td>\n",
       "    </tr>\n",
       "    <tr>\n",
       "      <td>min</td>\n",
       "      <td>1.000000</td>\n",
       "      <td>1.000000</td>\n",
       "      <td>1.0</td>\n",
       "      <td>180103.000000</td>\n",
       "      <td>1.000000</td>\n",
       "      <td>1.000000</td>\n",
       "      <td>1.000000</td>\n",
       "      <td>1.000000</td>\n",
       "      <td>1.000000</td>\n",
       "      <td>1.000000</td>\n",
       "      <td>...</td>\n",
       "      <td>1.000000</td>\n",
       "      <td>1.00000</td>\n",
       "      <td>1.000000</td>\n",
       "      <td>1.000000</td>\n",
       "      <td>1.000000</td>\n",
       "      <td>1.000000</td>\n",
       "      <td>1.000000</td>\n",
       "      <td>1.000000</td>\n",
       "      <td>1.000000</td>\n",
       "      <td>0.376175</td>\n",
       "    </tr>\n",
       "    <tr>\n",
       "      <td>25%</td>\n",
       "      <td>100004.000000</td>\n",
       "      <td>2.000000</td>\n",
       "      <td>1.0</td>\n",
       "      <td>180104.000000</td>\n",
       "      <td>1.000000</td>\n",
       "      <td>2.000000</td>\n",
       "      <td>12.000000</td>\n",
       "      <td>2.000000</td>\n",
       "      <td>1.000000</td>\n",
       "      <td>1.000000</td>\n",
       "      <td>...</td>\n",
       "      <td>1.000000</td>\n",
       "      <td>3.00000</td>\n",
       "      <td>1.000000</td>\n",
       "      <td>2.000000</td>\n",
       "      <td>1.000000</td>\n",
       "      <td>1.000000</td>\n",
       "      <td>3.000000</td>\n",
       "      <td>2.000000</td>\n",
       "      <td>2.000000</td>\n",
       "      <td>0.630608</td>\n",
       "    </tr>\n",
       "    <tr>\n",
       "      <td>50%</td>\n",
       "      <td>100819.000000</td>\n",
       "      <td>2.000000</td>\n",
       "      <td>1.0</td>\n",
       "      <td>180105.000000</td>\n",
       "      <td>1.000000</td>\n",
       "      <td>3.000000</td>\n",
       "      <td>28.000000</td>\n",
       "      <td>3.000000</td>\n",
       "      <td>1.000000</td>\n",
       "      <td>1.000000</td>\n",
       "      <td>...</td>\n",
       "      <td>2.000000</td>\n",
       "      <td>5.00000</td>\n",
       "      <td>2.000000</td>\n",
       "      <td>2.000000</td>\n",
       "      <td>1.000000</td>\n",
       "      <td>1.000000</td>\n",
       "      <td>6.000000</td>\n",
       "      <td>2.000000</td>\n",
       "      <td>2.000000</td>\n",
       "      <td>0.890626</td>\n",
       "    </tr>\n",
       "    <tr>\n",
       "      <td>75%</td>\n",
       "      <td>101577.500000</td>\n",
       "      <td>2.000000</td>\n",
       "      <td>1.0</td>\n",
       "      <td>180108.000000</td>\n",
       "      <td>1.000000</td>\n",
       "      <td>3.000000</td>\n",
       "      <td>42.000000</td>\n",
       "      <td>4.000000</td>\n",
       "      <td>2.000000</td>\n",
       "      <td>1.000000</td>\n",
       "      <td>...</td>\n",
       "      <td>5.000000</td>\n",
       "      <td>6.00000</td>\n",
       "      <td>3.000000</td>\n",
       "      <td>2.000000</td>\n",
       "      <td>2.000000</td>\n",
       "      <td>2.000000</td>\n",
       "      <td>9.000000</td>\n",
       "      <td>3.000000</td>\n",
       "      <td>4.000000</td>\n",
       "      <td>1.276018</td>\n",
       "    </tr>\n",
       "    <tr>\n",
       "      <td>max</td>\n",
       "      <td>102430.000000</td>\n",
       "      <td>2.000000</td>\n",
       "      <td>1.0</td>\n",
       "      <td>180110.000000</td>\n",
       "      <td>2.000000</td>\n",
       "      <td>4.000000</td>\n",
       "      <td>56.000000</td>\n",
       "      <td>5.000000</td>\n",
       "      <td>2.000000</td>\n",
       "      <td>8.000000</td>\n",
       "      <td>...</td>\n",
       "      <td>9.000000</td>\n",
       "      <td>99.00000</td>\n",
       "      <td>99.000000</td>\n",
       "      <td>9.000000</td>\n",
       "      <td>9.000000</td>\n",
       "      <td>9.000000</td>\n",
       "      <td>99.000000</td>\n",
       "      <td>9.000000</td>\n",
       "      <td>9.000000</td>\n",
       "      <td>2.112972</td>\n",
       "    </tr>\n",
       "  </tbody>\n",
       "</table>\n",
       "<p>8 rows × 30 columns</p>\n",
       "</div>"
      ],
      "text/plain": [
       "              respid       sample    comp       int_date         lang  \\\n",
       "count    2002.000000  2002.000000  2002.0    2002.000000  2002.000000   \n",
       "mean    76009.782717     1.750250     1.0  180105.636863     1.085415   \n",
       "std     43691.053230     0.432977     0.0       2.275502     0.279567   \n",
       "min         1.000000     1.000000     1.0  180103.000000     1.000000   \n",
       "25%    100004.000000     2.000000     1.0  180104.000000     1.000000   \n",
       "50%    100819.000000     2.000000     1.0  180105.000000     1.000000   \n",
       "75%    101577.500000     2.000000     1.0  180108.000000     1.000000   \n",
       "max    102430.000000     2.000000     1.0  180110.000000     2.000000   \n",
       "\n",
       "           cregion        state      density          sex      eminuse  ...  \\\n",
       "count  2002.000000  2002.000000  2002.000000  2002.000000  2002.000000  ...   \n",
       "mean      2.677822    28.155345     3.046454     1.460040     1.139361  ...   \n",
       "std       1.014930    16.061673     1.416099     0.498525     0.375485  ...   \n",
       "min       1.000000     1.000000     1.000000     1.000000     1.000000  ...   \n",
       "25%       2.000000    12.000000     2.000000     1.000000     1.000000  ...   \n",
       "50%       3.000000    28.000000     3.000000     1.000000     1.000000  ...   \n",
       "75%       3.000000    42.000000     4.000000     2.000000     1.000000  ...   \n",
       "max       4.000000    56.000000     5.000000     2.000000     8.000000  ...   \n",
       "\n",
       "           marital       educ2       emplnw         hisp       racem1  \\\n",
       "count  2002.000000  2002.00000  2002.000000  2002.000000  2002.000000   \n",
       "mean      2.980020     6.24975     3.457043     1.981019     2.101898   \n",
       "std       2.260983    11.92625    10.404676     1.073342     2.226236   \n",
       "min       1.000000     1.00000     1.000000     1.000000     1.000000   \n",
       "25%       1.000000     3.00000     1.000000     2.000000     1.000000   \n",
       "50%       2.000000     5.00000     2.000000     2.000000     1.000000   \n",
       "75%       5.000000     6.00000     3.000000     2.000000     2.000000   \n",
       "max       9.000000    99.00000    99.000000     9.000000     9.000000   \n",
       "\n",
       "           racecmb          inc        party          hh1       weight  \n",
       "count  2002.000000  2002.000000  2002.000000  2002.000000  2002.000000  \n",
       "mean      2.036464    21.068432     2.706294     3.012987     1.000000  \n",
       "std       2.009017    35.128846     1.836563     1.939575     0.484119  \n",
       "min       1.000000     1.000000     1.000000     1.000000     0.376175  \n",
       "25%       1.000000     3.000000     2.000000     2.000000     0.630608  \n",
       "50%       1.000000     6.000000     2.000000     2.000000     0.890626  \n",
       "75%       2.000000     9.000000     3.000000     4.000000     1.276018  \n",
       "max       9.000000    99.000000     9.000000     9.000000     2.112972  \n",
       "\n",
       "[8 rows x 30 columns]"
      ]
     },
     "execution_count": 54,
     "metadata": {},
     "output_type": "execute_result"
    }
   ],
   "source": [
    "Survey.describe()"
   ]
  },
  {
   "cell_type": "code",
   "execution_count": 49,
   "metadata": {},
   "outputs": [
    {
     "data": {
      "image/png": "[encoded data removed]",
      "text/plain": [
       "<Figure size 432x288 with 1 Axes>"
      ]
     },
     "metadata": {
      "needs_background": "light"
     },
     "output_type": "display_data"
    }
   ],
   "source": [
    "# Plot scatter graph between age and marital status.\n",
    "\n",
    "# 1 Married\n",
    "# 2 Living with a partner\n",
    "# 3 Divorced\n",
    "# 4 Separated\n",
    "# 5 Widowed\n",
    "# 6 Never been married\n",
    "# 8 Don't know\n",
    "# 9 Refused\n",
    "\n",
    "Survey.plot(x='age', y='marital', kind='scatter')\n",
    "plt.show()"
   ]
  },
  {
   "cell_type": "code",
   "execution_count": 51,
   "metadata": {},
   "outputs": [
    {
     "data": {
      "image/png": "[encoded data removed]",
      "text/plain": [
       "<Figure size 432x288 with 1 Axes>"
      ]
     },
     "metadata": {
      "needs_background": "light"
     },
     "output_type": "display_data"
    }
   ],
   "source": [
    "# Plot histogram of age\n",
    "\n",
    "Survey[['age']].plot(kind='hist',bins=[0,20,40,60,80,100],rwidth=0.8)\n",
    "plt.show()"
   ]
  },
  {
   "cell_type": "code",
   "execution_count": 63,
   "metadata": {},
   "outputs": [],
   "source": [
    "# Bar plot with group by age and party"
   ]
  },
  {
   "cell_type": "markdown",
   "metadata": {},
   "source": [
    "    1\tRepublican\n",
    "\t2\tDemocrat\n",
    "\t3\tIndependent\n",
    "\t4\t(VOL.) No preference\n",
    "\t5\t(VOL.) Other party\n",
    "\t8\t(VOL.) Don't know\n",
    "\t9\t(VOL.) Refused\n"
   ]
  },
  {
   "cell_type": "code",
   "execution_count": 62,
   "metadata": {},
   "outputs": [
    {
     "data": {
      "image/png": "[encoded data removed]",
      "text/plain": [
       "<Figure size 432x288 with 1 Axes>"
      ]
     },
     "metadata": {
      "needs_background": "light"
     },
     "output_type": "display_data"
    }
   ],
   "source": [
    "Survey.groupby(['age', 'party']).size().unstack().plot(kind='bar',stacked=True)\n",
    "plt.show()"
   ]
  },
  {
   "cell_type": "code",
   "execution_count": null,
   "metadata": {},
   "outputs": [],
   "source": []
  }
 ],
 "metadata": {
  "kernelspec": {
   "display_name": "Python 3",
   "language": "python",
   "name": "python3"
  },
  "language_info": {
   "codemirror_mode": {
    "name": "ipython",
    "version": 3
   },
   "file_extension": ".py",
   "mimetype": "text/x-python",
   "name": "python",
   "nbconvert_exporter": "python",
   "pygments_lexer": "ipython3",
   "version": "3.7.4"
  }
 },
 "nbformat": 4,
 "nbformat_minor": 2
}
